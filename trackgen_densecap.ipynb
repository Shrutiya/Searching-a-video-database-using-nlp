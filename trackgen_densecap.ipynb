{
  "nbformat": 4,
  "nbformat_minor": 0,
  "metadata": {
    "colab": {
      "name": "trackgen_densecap.ipynb",
      "provenance": [],
      "collapsed_sections": [],
      "machine_shape": "hm"
    },
    "kernelspec": {
      "name": "python3",
      "display_name": "Python 3"
    },
    "accelerator": "TPU"
  },
  "cells": [
    {
      "cell_type": "code",
      "metadata": {
        "id": "Yz9RbC7_ZnZL"
      },
      "source": [
        "l=[]\n",
        "while(1):\n",
        "  l.append(1)"
      ],
      "execution_count": null,
      "outputs": []
    },
    {
      "cell_type": "code",
      "metadata": {
        "id": "0EanPT9qZ3yC",
        "colab": {
          "base_uri": "https://localhost:8080/",
          "height": 374
        },
        "outputId": "bc8528dc-7638-4bee-e38a-3c36ea5b9cf2"
      },
      "source": [
        "%tensorflow_version 1.x\n",
        "import tensorflow as tf\n",
        "print(\"Tensorflow version \" + tf.__version__)\n",
        "\n",
        "try:\n",
        "  tpu = tf.distribute.cluster_resolver.TPUClusterResolver()  # TPU detection\n",
        "  print('Running on TPU ', tpu.cluster_spec().as_dict()['worker'])\n",
        "except ValueError:\n",
        "  raise BaseException('ERROR: Not connected to a TPU runtime; please see the previous cell in this notebook for instructions!')\n",
        "\n",
        "tf.config.experimental_connect_to_cluster(tpu)\n",
        "tf.tpu.experimental.initialize_tpu_system(tpu)\n",
        "tpu_strategy = tf.distribute.experimental.TPUStrategy(tpu)"
      ],
      "execution_count": null,
      "outputs": [
        {
          "output_type": "stream",
          "text": [
            "TensorFlow 1.x selected.\n",
            "Tensorflow version 1.15.2\n",
            "Running on TPU  ['10.113.148.10:8470']\n",
            "INFO:tensorflow:Initializing the TPU system: 10.113.148.10:8470\n",
            "INFO:tensorflow:Finished initializing TPU system.\n",
            "INFO:tensorflow:Querying Tensorflow master (grpc://10.113.148.10:8470) for TPU system metadata.\n",
            "INFO:tensorflow:Found TPU system:\n",
            "INFO:tensorflow:*** Num TPU Cores: 8\n",
            "INFO:tensorflow:*** Num TPU Workers: 1\n",
            "INFO:tensorflow:*** Num TPU Cores Per Worker: 8\n",
            "INFO:tensorflow:*** Available Device: _DeviceAttributes(/job:worker/replica:0/task:0/device:CPU:0, CPU, -1, 8551308644157903534)\n",
            "INFO:tensorflow:*** Available Device: _DeviceAttributes(/job:worker/replica:0/task:0/device:TPU:0, TPU, 17179869184, 11925431561414640411)\n",
            "INFO:tensorflow:*** Available Device: _DeviceAttributes(/job:worker/replica:0/task:0/device:TPU:1, TPU, 17179869184, 5053828486435603714)\n",
            "INFO:tensorflow:*** Available Device: _DeviceAttributes(/job:worker/replica:0/task:0/device:TPU:2, TPU, 17179869184, 6908679362809527296)\n",
            "INFO:tensorflow:*** Available Device: _DeviceAttributes(/job:worker/replica:0/task:0/device:TPU:3, TPU, 17179869184, 2543003423453089645)\n",
            "INFO:tensorflow:*** Available Device: _DeviceAttributes(/job:worker/replica:0/task:0/device:TPU:4, TPU, 17179869184, 15898099941786396646)\n",
            "INFO:tensorflow:*** Available Device: _DeviceAttributes(/job:worker/replica:0/task:0/device:TPU:5, TPU, 17179869184, 1402946154361809297)\n",
            "INFO:tensorflow:*** Available Device: _DeviceAttributes(/job:worker/replica:0/task:0/device:TPU:6, TPU, 17179869184, 5058448895793487285)\n",
            "INFO:tensorflow:*** Available Device: _DeviceAttributes(/job:worker/replica:0/task:0/device:TPU:7, TPU, 17179869184, 8872090580314662543)\n",
            "INFO:tensorflow:*** Available Device: _DeviceAttributes(/job:worker/replica:0/task:0/device:TPU_SYSTEM:0, TPU_SYSTEM, 8589934592, 2697005099388726547)\n",
            "INFO:tensorflow:*** Available Device: _DeviceAttributes(/job:worker/replica:0/task:0/device:XLA_CPU:0, XLA_CPU, 17179869184, 9702837810776685278)\n"
          ],
          "name": "stdout"
        }
      ]
    },
    {
      "cell_type": "code",
      "metadata": {
        "id": "YCLyOGrHag5M",
        "colab": {
          "base_uri": "https://localhost:8080/",
          "height": 34
        },
        "outputId": "6641f553-fd8a-435f-d619-fe4d45f538f9"
      },
      "source": [
        "print(tf.__version__)\n",
        "import tensorflow_hub as hub\n",
        "import numpy as np\n",
        "import matplotlib.pyplot as plt\n",
        "from sklearn.metrics.pairwise import cosine_similarity\n",
        "\n",
        "module_url = \"https://tfhub.dev/google/universal-sentence-encoder/1?tf-hub-format=compressed\"\n",
        "\n",
        "# Import the Universal Sentence Encoder's TF Hub module\n",
        "embed = hub.Module(module_url)"
      ],
      "execution_count": null,
      "outputs": [
        {
          "output_type": "stream",
          "text": [
            "1.15.2\n"
          ],
          "name": "stdout"
        }
      ]
    },
    {
      "cell_type": "code",
      "metadata": {
        "id": "rIPZplpLatPL"
      },
      "source": [
        "def semantic_similarity(cap1,cap2):\n",
        "    messages=[cap1,cap2]\n",
        "    similarity_input_placeholder = tf.placeholder(tf.string, shape=(None))\n",
        "    similarity_message_encodings = embed(similarity_input_placeholder)\n",
        "    with tf.Session() as session:\n",
        "        session.run(tf.global_variables_initializer())\n",
        "        session.run(tf.tables_initializer())\n",
        "        message_embeddings_ = session.run(similarity_message_encodings, feed_dict={similarity_input_placeholder: messages})    \n",
        "    return cosine_similarity(message_embeddings_[0].reshape(1,-1),message_embeddings_[1].reshape(1,-1))"
      ],
      "execution_count": null,
      "outputs": []
    },
    {
      "cell_type": "code",
      "metadata": {
        "id": "JSQyTgMeW17T",
        "colab": {
          "base_uri": "https://localhost:8080/",
          "height": 122
        },
        "outputId": "01122692-c59a-430c-fc4f-dca5cb0b23a7"
      },
      "source": [
        "from google.colab import drive\n",
        "drive.mount('/content/drive',force_remount=True)"
      ],
      "execution_count": null,
      "outputs": [
        {
          "output_type": "stream",
          "text": [
            "Go to this URL in a browser: https://accounts.google.com/o/oauth2/auth?client_id=947318989803-6bn6qk8qdgf4n4g3pfee6491hc0brc4i.apps.googleusercontent.com&redirect_uri=urn%3aietf%3awg%3aoauth%3a2.0%3aoob&response_type=code&scope=email%20https%3a%2f%2fwww.googleapis.com%2fauth%2fdocs.test%20https%3a%2f%2fwww.googleapis.com%2fauth%2fdrive%20https%3a%2f%2fwww.googleapis.com%2fauth%2fdrive.photos.readonly%20https%3a%2f%2fwww.googleapis.com%2fauth%2fpeopleapi.readonly\n",
            "\n",
            "Enter your authorization code:\n",
            "··········\n",
            "Mounted at /content/drive\n"
          ],
          "name": "stdout"
        }
      ]
    },
    {
      "cell_type": "code",
      "metadata": {
        "id": "5wGIQjg7a0jU"
      },
      "source": [
        "import json\n",
        "f=open(r\"drive/My Drive/Mini-Project/results.json\")\n",
        "data=json.load(f)\n",
        "result=data[\"results\"]\n",
        "result.sort(key=lambda x:int(x[\"img_name\"][x[\"img_name\"].index('e')+1:x[\"img_name\"].index('.')]))"
      ],
      "execution_count": null,
      "outputs": []
    },
    {
      "cell_type": "code",
      "metadata": {
        "id": "tqnpv9f-bKuB"
      },
      "source": [
        "def euclidean(x1,y1,x2,y2):\n",
        "    return math.sqrt( (x1-x2)**2 + (y1-y2)**2 )"
      ],
      "execution_count": null,
      "outputs": []
    },
    {
      "cell_type": "code",
      "metadata": {
        "id": "HNx1RJzHcPRm"
      },
      "source": [
        "\n",
        "\n",
        "\n",
        "\n",
        "def match(frame):\n",
        "    print(\"##############\",frame[\"img_name\"],\"############\")\n",
        "    print(\"TRACKS\",tracks)\n",
        "    print(\"FINAL_TRACKS\",final_tracks)\n",
        "    i=0;count=0\n",
        "    captions=[]\n",
        "    while(frame[\"scores\"][i]>=0):\n",
        "        if(count<5):\n",
        "            captions.append([frame[\"captions\"][i],(frame[\"boxes\"][i][0],frame[\"boxes\"][i][1])])\n",
        "        else:\n",
        "            break\n",
        "        i+=1\n",
        "        count+=1\n",
        "    print(captions)\n",
        "    \n",
        "    tracks_to_remove=[]\n",
        "    for track in tracks:\n",
        "        last_frame=track[2][-1]\n",
        "        name=frame[\"img_name\"]\n",
        "        #print(int(name[5:name.index('.')]))\n",
        "        if(int(name[5:name.index('.')])-int(last_frame[5:last_frame.index('.')])>=3):\n",
        "            #print(track)\n",
        "            if(len(track[2])<4):\n",
        "                print(\"here\")\n",
        "                #print(tracks.index(track),l)\n",
        "                #tracks.remove(track)\n",
        "                tracks_to_remove.append(track)\n",
        "                continue\n",
        "            else:\n",
        "                final_tracks.append(track)\n",
        "                tracks_to_remove.append(track)\n",
        "                continue\n",
        "        else:\n",
        "            captions_to_remove=[]\n",
        "            print(i,track[0],\"..........\")\n",
        "            for cap in captions:\n",
        "                print(cap)\n",
        "                if(\"<UNK>\" in cap[0]):\n",
        "                    captions_to_remove.append(cap)\n",
        "                    continue\n",
        "                x=semantic_similarity(track[0],cap[0])[0][0]\n",
        "                print(x)\n",
        "                if(x>=0.5):\n",
        "                    if(euclidean(track[1][0],track[1][1],cap[1][0],cap[1][1])<125):\n",
        "                        track[2].append(frame[\"img_name\"])\n",
        "                        print(\"pass\")\n",
        "                        captions_to_remove.append(cap)\n",
        "                        #captions.pop(captions.index(cap))\n",
        "            for rem_cap in captions_to_remove:\n",
        "                captions.remove(rem_cap)\n",
        "    for rem_track in tracks_to_remove:\n",
        "                tracks.remove(rem_track)\n",
        "\n",
        "    for cap in captions:\n",
        "        tracks.append([cap[0],cap[1],[frame[\"img_name\"]]])\n",
        "    f=open(\"drive/My Drive/Mini-Project/tracks.txt\",'w')\n",
        "    f.write('final_tracks = '+str(final_tracks)+\"\\ntracks = \"+str(tracks)+\"\\n\"+frame[\"img_name\"])\n",
        "    f.close()\n"
      ],
      "execution_count": null,
      "outputs": []
    },
    {
      "cell_type": "code",
      "metadata": {
        "id": "MWARUM56cRdD"
      },
      "source": [
        "f=open(r'drive/My Drive/Mini-Project/tracks.txt')\n",
        "c=0\n",
        "for x in f:\n",
        "    c+=1\n",
        "    if(c==1):\n",
        "        final_tracks=eval(x[15:-1])\n",
        "    elif(c==2):\n",
        "        tracks=eval(x[9:-1])\n",
        "    else:\n",
        "        index=int(x[5:x.index('.')])"
      ],
      "execution_count": null,
      "outputs": []
    },
    {
      "cell_type": "code",
      "metadata": {
        "id": "8qf7taILcURZ",
        "colab": {
          "base_uri": "https://localhost:8080/",
          "height": 71
        },
        "outputId": "9c964b11-a5cc-48e9-95b1-8febb3feab78"
      },
      "source": [
        "import math\n",
        "for i in range(index+1,len(result)):\n",
        "  match(result[i])\n",
        "print(\"tracks\",tracks)\n",
        "print(\"final tracks\",final_tracks)"
      ],
      "execution_count": null,
      "outputs": [
        {
          "output_type": "stream",
          "text": [
            "tracks [['a red circle on the sign', (611.51904296875, 208.05776977539), ['frame512 .jpg', 'frame514 .jpg', 'frame515 .jpg', 'frame516 .jpg', 'frame517 .jpg', 'frame519 .jpg']], ['a pink flower on a wall', (571.34008789062, 194.74789428711), ['frame513 .jpg', 'frame514 .jpg', 'frame515 .jpg', 'frame516 .jpg', 'frame517 .jpg', 'frame518 .jpg']]]\n",
            "final tracks [['the hand of a person', (413.63818359375, 275.47778320312), ['frame0 .jpg', 'frame1 .jpg', 'frame2 .jpg', 'frame3 .jpg', 'frame5 .jpg', 'frame6 .jpg', 'frame7 .jpg', 'frame8 .jpg', 'frame9 .jpg', 'frame10 .jpg', 'frame11 .jpg', 'frame12 .jpg', 'frame13 .jpg', 'frame16 .jpg', 'frame17 .jpg', 'frame19 .jpg', 'frame20 .jpg']], ['a pink and white sign', (274.64312744141, 44.737243652344), ['frame0 .jpg', 'frame1 .jpg', 'frame1 .jpg', 'frame1 .jpg', 'frame2 .jpg', 'frame2 .jpg', 'frame2 .jpg', 'frame3 .jpg', 'frame3 .jpg', 'frame4 .jpg', 'frame6 .jpg', 'frame7 .jpg', 'frame7 .jpg', 'frame9 .jpg', 'frame9 .jpg', 'frame10 .jpg', 'frame10 .jpg', 'frame11 .jpg', 'frame12 .jpg', 'frame12 .jpg', 'frame13 .jpg', 'frame15 .jpg', 'frame16 .jpg', 'frame18 .jpg', 'frame19 .jpg', 'frame19 .jpg', 'frame20 .jpg', 'frame20 .jpg', 'frame21 .jpg', 'frame22 .jpg', 'frame23 .jpg', 'frame24 .jpg', 'frame25 .jpg', 'frame26 .jpg']], ['white tile on the floor', (-3.5846252441406, 13.788352966309), ['frame0 .jpg', 'frame1 .jpg', 'frame2 .jpg', 'frame3 .jpg', 'frame4 .jpg', 'frame4 .jpg', 'frame6 .jpg', 'frame7 .jpg']], ['a brown tile floor', (18.714508056641, 188.65841674805), ['frame8 .jpg', 'frame9 .jpg', 'frame11 .jpg', 'frame12 .jpg']], ['the girl is smiling', (102.03993225098, 46.593139648438), ['frame18 .jpg', 'frame20 .jpg', 'frame20 .jpg', 'frame21 .jpg', 'frame21 .jpg', 'frame22 .jpg', 'frame23 .jpg', 'frame24 .jpg', 'frame26 .jpg', 'frame26 .jpg']], ['a man holding a cake', (47.994293212891, 63.443725585938), ['frame17 .jpg', 'frame18 .jpg', 'frame19 .jpg', 'frame21 .jpg', 'frame22 .jpg', 'frame23 .jpg', 'frame24 .jpg', 'frame25 .jpg', 'frame27 .jpg']], ['hand holding a pizza', (342.55349731445, 230.14869689941), ['frame23 .jpg', 'frame24 .jpg', 'frame25 .jpg', 'frame26 .jpg', 'frame27 .jpg']], ['a cloudy sky', (-9.6600952148438, 72.886123657227), ['frame29 .jpg', 'frame31 .jpg', 'frame33 .jpg', 'frame34 .jpg', 'frame35 .jpg', 'frame36 .jpg']], ['buildings in the background', (194.09449768066, 45.289581298828), ['frame30 .jpg', 'frame31 .jpg', 'frame32 .jpg', 'frame34 .jpg', 'frame36 .jpg']], ['a building with many windows', (405.79833984375, 84.911735534668), ['frame30 .jpg', 'frame31 .jpg', 'frame31 .jpg', 'frame32 .jpg', 'frame33 .jpg', 'frame35 .jpg', 'frame37 .jpg']], ['tall building with many windows', (611.51226806641, 134.9246673584), ['frame34 .jpg', 'frame36 .jpg', 'frame38 .jpg', 'frame39 .jpg', 'frame40 .jpg', 'frame41 .jpg']], ['a city scene', (-3.807487487793, 9.5027008056641), ['frame36 .jpg', 'frame37 .jpg', 'frame38 .jpg', 'frame40 .jpg', 'frame41 .jpg', 'frame43 .jpg']], ['white clouds in blue sky', (287.73626708984, 18.983093261719), ['frame42 .jpg', 'frame43 .jpg', 'frame43 .jpg', 'frame45 .jpg', 'frame46 .jpg']], ['a building in the background', (84.856460571289, 109.15869140625), ['frame30 .jpg', 'frame31 .jpg', 'frame32 .jpg', 'frame32 .jpg', 'frame33 .jpg', 'frame33 .jpg', 'frame34 .jpg', 'frame35 .jpg', 'frame37 .jpg', 'frame38 .jpg', 'frame39 .jpg', 'frame40 .jpg', 'frame40 .jpg', 'frame41 .jpg', 'frame41 .jpg', 'frame42 .jpg', 'frame44 .jpg', 'frame45 .jpg', 'frame45 .jpg', 'frame46 .jpg', 'frame46 .jpg', 'frame47 .jpg', 'frame48 .jpg', 'frame48 .jpg', 'frame49 .jpg', 'frame49 .jpg', 'frame50 .jpg', 'frame51 .jpg', 'frame52 .jpg', 'frame53 .jpg']], ['a large blue and white sign', (377.51327514648, 93.014366149902), ['frame50 .jpg', 'frame51 .jpg', 'frame53 .jpg', 'frame53 .jpg', 'frame54 .jpg', 'frame54 .jpg', 'frame54 .jpg']], ['cars parked on the street', (-6.6249237060547, 110.13803863525), ['frame57 .jpg', 'frame58 .jpg', 'frame59 .jpg', 'frame60 .jpg', 'frame61 .jpg', 'frame62 .jpg', 'frame63 .jpg', 'frame63 .jpg', 'frame64 .jpg', 'frame64 .jpg', 'frame65 .jpg', 'frame66 .jpg', 'frame66 .jpg', 'frame66 .jpg', 'frame67 .jpg', 'frame67 .jpg', 'frame68 .jpg', 'frame70 .jpg', 'frame70 .jpg', 'frame71 .jpg', 'frame72 .jpg', 'frame73 .jpg', 'frame73 .jpg', 'frame74 .jpg', 'frame74 .jpg']], ['a building with many windows', (339.74810791016, 270.50051879883), ['frame60 .jpg', 'frame61 .jpg', 'frame62 .jpg', 'frame63 .jpg', 'frame64 .jpg', 'frame65 .jpg', 'frame66 .jpg', 'frame66 .jpg', 'frame68 .jpg', 'frame69 .jpg', 'frame70 .jpg', 'frame71 .jpg', 'frame72 .jpg', 'frame72 .jpg', 'frame73 .jpg', 'frame74 .jpg', 'frame74 .jpg']], ['a building with many windows', (306.52081298828, 139.75152587891), ['frame61 .jpg', 'frame62 .jpg', 'frame63 .jpg', 'frame65 .jpg']], ['a building with a red roof', (254.19094848633, 140.69369506836), ['frame71 .jpg', 'frame72 .jpg', 'frame73 .jpg', 'frame75 .jpg']], ['power lines in the sky', (274.43969726562, 323.50793457031), ['frame75 .jpg', 'frame77 .jpg', 'frame78 .jpg', 'frame79 .jpg', 'frame81 .jpg', 'frame81 .jpg']], ['street light on a pole', (151.14984130859, 299.38671875), ['frame82 .jpg', 'frame83 .jpg', 'frame83 .jpg', 'frame85 .jpg']], ['power lines in the sky', (75.547882080078, 176.455078125), ['frame75 .jpg', 'frame76 .jpg', 'frame76 .jpg', 'frame76 .jpg', 'frame76 .jpg', 'frame77 .jpg', 'frame78 .jpg', 'frame80 .jpg', 'frame82 .jpg', 'frame83 .jpg', 'frame84 .jpg', 'frame85 .jpg', 'frame86 .jpg']], ['blue sky with clouds', (-6.4905090332031, 5.3164367675781), ['frame75 .jpg', 'frame76 .jpg', 'frame76 .jpg', 'frame76 .jpg', 'frame76 .jpg', 'frame77 .jpg', 'frame77 .jpg', 'frame78 .jpg', 'frame78 .jpg', 'frame78 .jpg', 'frame79 .jpg', 'frame79 .jpg', 'frame79 .jpg', 'frame80 .jpg', 'frame80 .jpg', 'frame80 .jpg', 'frame81 .jpg', 'frame81 .jpg', 'frame81 .jpg', 'frame82 .jpg', 'frame82 .jpg', 'frame83 .jpg', 'frame83 .jpg', 'frame84 .jpg', 'frame84 .jpg', 'frame84 .jpg', 'frame85 .jpg', 'frame85 .jpg', 'frame85 .jpg', 'frame86 .jpg', 'frame87 .jpg', 'frame87 .jpg']], ['a blue car on the road', (-4.7704753875732, 189.99145507812), ['frame91 .jpg', 'frame92 .jpg', 'frame93 .jpg', 'frame93 .jpg', 'frame94 .jpg', 'frame95 .jpg']], ['the back of a person', (129.97378540039, 5.381721496582), ['frame90 .jpg', 'frame91 .jpg', 'frame93 .jpg', 'frame95 .jpg', 'frame95 .jpg', 'frame97 .jpg', 'frame99 .jpg', 'frame100 .jpg']], ['a car on the road', (374.4541015625, 204.74203491211), ['frame91 .jpg', 'frame92 .jpg', 'frame93 .jpg', 'frame95 .jpg', 'frame96 .jpg', 'frame96 .jpg', 'frame96 .jpg', 'frame97 .jpg', 'frame97 .jpg', 'frame98 .jpg', 'frame98 .jpg', 'frame99 .jpg', 'frame100 .jpg', 'frame101 .jpg', 'frame102 .jpg']], ['a yellow bus', (286.59350585938, 97.848930358887), ['frame97 .jpg', 'frame98 .jpg', 'frame99 .jpg', 'frame100 .jpg', 'frame101 .jpg', 'frame102 .jpg', 'frame102 .jpg', 'frame103 .jpg', 'frame104 .jpg', 'frame105 .jpg']], ['a red and yellow bus', (87.398620605469, 60.283325195312), ['frame96 .jpg', 'frame98 .jpg', 'frame99 .jpg', 'frame100 .jpg', 'frame101 .jpg', 'frame102 .jpg', 'frame103 .jpg', 'frame104 .jpg', 'frame106 .jpg', 'frame106 .jpg']], ['white car on the road', (578.81378173828, 187.09550476074), ['frame96 .jpg', 'frame97 .jpg', 'frame99 .jpg', 'frame100 .jpg', 'frame101 .jpg', 'frame102 .jpg', 'frame103 .jpg', 'frame103 .jpg', 'frame104 .jpg', 'frame104 .jpg', 'frame105 .jpg', 'frame105 .jpg', 'frame106 .jpg']], ['a black strap on a bag', (87.213119506836, 257.46710205078), ['frame107 .jpg', 'frame108 .jpg', 'frame109 .jpg', 'frame110 .jpg', 'frame111 .jpg', 'frame111 .jpg', 'frame112 .jpg', 'frame113 .jpg', 'frame114 .jpg', 'frame116 .jpg', 'frame117 .jpg']], ['white and brown sweater', (104.61145019531, 282.24755859375), ['frame124 .jpg', 'frame125 .jpg', 'frame126 .jpg', 'frame127 .jpg', 'frame127 .jpg']], ['a girl with a black nose', (173.6442565918, 22.783004760742), ['frame107 .jpg', 'frame108 .jpg', 'frame108 .jpg', 'frame108 .jpg', 'frame109 .jpg', 'frame109 .jpg', 'frame109 .jpg', 'frame110 .jpg', 'frame110 .jpg', 'frame110 .jpg', 'frame110 .jpg', 'frame111 .jpg', 'frame111 .jpg', 'frame111 .jpg', 'frame112 .jpg', 'frame112 .jpg', 'frame112 .jpg', 'frame113 .jpg', 'frame113 .jpg', 'frame114 .jpg', 'frame114 .jpg', 'frame115 .jpg', 'frame115 .jpg', 'frame115 .jpg', 'frame116 .jpg', 'frame116 .jpg', 'frame116 .jpg', 'frame117 .jpg', 'frame117 .jpg', 'frame117 .jpg', 'frame117 .jpg', 'frame118 .jpg', 'frame118 .jpg', 'frame118 .jpg', 'frame118 .jpg', 'frame119 .jpg', 'frame119 .jpg', 'frame120 .jpg', 'frame120 .jpg', 'frame121 .jpg', 'frame121 .jpg', 'frame121 .jpg', 'frame122 .jpg', 'frame122 .jpg', 'frame123 .jpg', 'frame123 .jpg', 'frame123 .jpg', 'frame124 .jpg', 'frame124 .jpg', 'frame125 .jpg', 'frame125 .jpg', 'frame125 .jpg', 'frame126 .jpg', 'frame126 .jpg', 'frame127 .jpg', 'frame128 .jpg', 'frame128 .jpg', 'frame128 .jpg', 'frame129 .jpg', 'frame129 .jpg', 'frame130 .jpg', 'frame130 .jpg']], ['a dog with a long sleeve', (-8.5014038085938, 10.200057983398), ['frame127 .jpg', 'frame129 .jpg', 'frame130 .jpg', 'frame132 .jpg']], ['a building with a roof', (281.39389038086, 5.6828689575195), ['frame131 .jpg', 'frame132 .jpg', 'frame132 .jpg', 'frame133 .jpg', 'frame134 .jpg', 'frame134 .jpg', 'frame134 .jpg', 'frame136 .jpg', 'frame138 .jpg', 'frame140 .jpg', 'frame141 .jpg', 'frame141 .jpg']], ['a red and white snow board', (11.896743774414, 82.180877685547), ['frame131 .jpg', 'frame133 .jpg', 'frame135 .jpg', 'frame136 .jpg', 'frame137 .jpg', 'frame138 .jpg', 'frame139 .jpg', 'frame140 .jpg', 'frame142 .jpg']], ['a building in the background', (125.516456604, 24.660736083984), ['frame131 .jpg', 'frame132 .jpg', 'frame133 .jpg', 'frame134 .jpg', 'frame135 .jpg', 'frame136 .jpg', 'frame137 .jpg', 'frame138 .jpg', 'frame139 .jpg', 'frame139 .jpg', 'frame140 .jpg', 'frame140 .jpg', 'frame141 .jpg', 'frame142 .jpg', 'frame142 .jpg', 'frame143 .jpg', 'frame144 .jpg', 'frame145 .jpg', 'frame146 .jpg']], ['a red and white building', (-17.024200439453, 6.520263671875), ['frame141 .jpg', 'frame143 .jpg', 'frame144 .jpg', 'frame145 .jpg', 'frame146 .jpg']], ['red and white sign', (-0.085968017578125, 154.98956298828), ['frame132 .jpg', 'frame134 .jpg', 'frame135 .jpg', 'frame136 .jpg', 'frame137 .jpg', 'frame139 .jpg', 'frame140 .jpg', 'frame141 .jpg', 'frame142 .jpg', 'frame143 .jpg', 'frame144 .jpg', 'frame145 .jpg', 'frame146 .jpg', 'frame148 .jpg']], ['a clear blue sky', (204.47314453125, 22.754913330078), ['frame148 .jpg', 'frame149 .jpg', 'frame150 .jpg', 'frame150 .jpg', 'frame152 .jpg']], ['bird flying in the sky', (480.32257080078, 97.945526123047), ['frame151 .jpg', 'frame152 .jpg', 'frame153 .jpg', 'frame154 .jpg']], ['a large red building', (61.138092041016, 277.48825073242), ['frame152 .jpg', 'frame153 .jpg', 'frame154 .jpg', 'frame155 .jpg', 'frame156 .jpg', 'frame156 .jpg', 'frame157 .jpg', 'frame158 .jpg']], ['a cloudy blue sky', (248.9545135498, 17.275421142578), ['frame155 .jpg', 'frame156 .jpg', 'frame158 .jpg', 'frame159 .jpg', 'frame159 .jpg', 'frame161 .jpg', 'frame161 .jpg']], ['white clouds in blue sky', (-7.0555725097656, 1.9006652832031), ['frame149 .jpg', 'frame150 .jpg', 'frame151 .jpg', 'frame151 .jpg', 'frame152 .jpg', 'frame153 .jpg', 'frame153 .jpg', 'frame154 .jpg', 'frame154 .jpg', 'frame155 .jpg', 'frame156 .jpg', 'frame157 .jpg', 'frame157 .jpg', 'frame158 .jpg', 'frame160 .jpg', 'frame160 .jpg', 'frame161 .jpg', 'frame162 .jpg', 'frame163 .jpg']], ['a blue umbrella', (327.7275390625, 134.44958496094), ['frame162 .jpg', 'frame163 .jpg', 'frame164 .jpg', 'frame165 .jpg', 'frame166 .jpg']], ['a red brick building', (364.46618652344, 208.78140258789), ['frame158 .jpg', 'frame159 .jpg', 'frame160 .jpg', 'frame161 .jpg', 'frame162 .jpg', 'frame163 .jpg', 'frame164 .jpg', 'frame165 .jpg', 'frame166 .jpg', 'frame168 .jpg', 'frame169 .jpg']], ['a large building with an umbrella', (166.7886505127, 0.16574096679688), ['frame166 .jpg', 'frame167 .jpg', 'frame168 .jpg', 'frame169 .jpg', 'frame170 .jpg']], ['red and white flag', (150.63415527344, 94.988845825195), ['frame163 .jpg', 'frame164 .jpg', 'frame165 .jpg', 'frame166 .jpg', 'frame167 .jpg', 'frame168 .jpg', 'frame169 .jpg', 'frame170 .jpg', 'frame170 .jpg', 'frame171 .jpg', 'frame171 .jpg', 'frame172 .jpg', 'frame173 .jpg']], ['window in the room', (3.0539932250977, 8.1615829467773), ['frame162 .jpg', 'frame164 .jpg', 'frame165 .jpg', 'frame166 .jpg', 'frame167 .jpg', 'frame167 .jpg', 'frame168 .jpg', 'frame169 .jpg', 'frame170 .jpg', 'frame171 .jpg', 'frame172 .jpg', 'frame173 .jpg', 'frame175 .jpg', 'frame176 .jpg']], ['window on the building', (3.2332210540771, 206.51448059082), ['frame172 .jpg', 'frame173 .jpg', 'frame174 .jpg', 'frame175 .jpg', 'frame176 .jpg', 'frame177 .jpg', 'frame177 .jpg', 'frame178 .jpg', 'frame178 .jpg', 'frame179 .jpg', 'frame181 .jpg', 'frame182 .jpg']], ['a red building with a clock tower', (-8.0292358398438, 73.738159179688), ['frame179 .jpg', 'frame180 .jpg', 'frame180 .jpg', 'frame181 .jpg', 'frame183 .jpg', 'frame183 .jpg', 'frame184 .jpg', 'frame185 .jpg', 'frame185 .jpg', 'frame185 .jpg', 'frame186 .jpg', 'frame186 .jpg', 'frame187 .jpg', 'frame188 .jpg', 'frame189 .jpg', 'frame190 .jpg']], ['a person walking on the sidewalk', (4.1455707550049, 360.47164916992), ['frame186 .jpg', 'frame187 .jpg', 'frame187 .jpg', 'frame188 .jpg', 'frame188 .jpg', 'frame189 .jpg', 'frame189 .jpg', 'frame190 .jpg', 'frame190 .jpg', 'frame191 .jpg', 'frame192 .jpg']], ['a street light on a pole', (613.58404541016, 159.53318786621), ['frame190 .jpg', 'frame191 .jpg', 'frame192 .jpg', 'frame193 .jpg', 'frame194 .jpg', 'frame194 .jpg', 'frame196 .jpg']], ['a large red building', (161.48425292969, 1.3087005615234), ['frame191 .jpg', 'frame192 .jpg', 'frame193 .jpg', 'frame195 .jpg', 'frame195 .jpg', 'frame196 .jpg']], ['trees in the background', (0.57955932617188, 43.904144287109), ['frame193 .jpg', 'frame194 .jpg', 'frame196 .jpg', 'frame197 .jpg', 'frame197 .jpg', 'frame198 .jpg', 'frame199 .jpg', 'frame199 .jpg']], ['a man walking on the sidewalk', (555.16320800781, 294.89535522461), ['frame188 .jpg', 'frame189 .jpg', 'frame190 .jpg', 'frame191 .jpg', 'frame192 .jpg', 'frame193 .jpg', 'frame194 .jpg', 'frame195 .jpg', 'frame197 .jpg', 'frame198 .jpg', 'frame200 .jpg']], ['a large window', (321.62976074219, 18.025024414062), ['frame171 .jpg', 'frame172 .jpg', 'frame173 .jpg', 'frame174 .jpg', 'frame175 .jpg', 'frame175 .jpg', 'frame175 .jpg', 'frame176 .jpg', 'frame176 .jpg', 'frame176 .jpg', 'frame177 .jpg', 'frame178 .jpg', 'frame178 .jpg', 'frame178 .jpg', 'frame179 .jpg', 'frame180 .jpg', 'frame180 .jpg', 'frame181 .jpg', 'frame181 .jpg', 'frame182 .jpg', 'frame182 .jpg', 'frame183 .jpg', 'frame183 .jpg', 'frame183 .jpg', 'frame184 .jpg', 'frame184 .jpg', 'frame185 .jpg', 'frame186 .jpg', 'frame186 .jpg', 'frame187 .jpg', 'frame188 .jpg', 'frame189 .jpg', 'frame191 .jpg', 'frame192 .jpg', 'frame193 .jpg', 'frame194 .jpg', 'frame195 .jpg', 'frame196 .jpg', 'frame197 .jpg', 'frame198 .jpg', 'frame199 .jpg', 'frame199 .jpg', 'frame200 .jpg', 'frame200 .jpg', 'frame201 .jpg', 'frame201 .jpg', 'frame202 .jpg', 'frame202 .jpg', 'frame203 .jpg', 'frame203 .jpg', 'frame203 .jpg']], ['a large red brick building', (90.989822387695, 7.8739318847656), ['frame200 .jpg', 'frame201 .jpg', 'frame201 .jpg', 'frame202 .jpg', 'frame202 .jpg', 'frame203 .jpg', 'frame203 .jpg']], ['the photo is black and white', (79.741241455078, 5.2610702514648), ['frame206 .jpg', 'frame207 .jpg', 'frame207 .jpg', 'frame208 .jpg']], ['person holding a phone', (136.13598632812, 30.328201293945), ['frame206 .jpg', 'frame208 .jpg', 'frame209 .jpg', 'frame209 .jpg', 'frame210 .jpg', 'frame211 .jpg', 'frame212 .jpg', 'frame213 .jpg', 'frame214 .jpg', 'frame214 .jpg', 'frame215 .jpg', 'frame215 .jpg']], ['child with blonde hair', (-1.5806732177734, 48.232894897461), ['frame209 .jpg', 'frame210 .jpg', 'frame211 .jpg', 'frame212 .jpg', 'frame213 .jpg', 'frame214 .jpg', 'frame215 .jpg', 'frame217 .jpg', 'frame218 .jpg', 'frame220 .jpg']], ['white shirt on a man', (12.173370361328, 272.77209472656), ['frame216 .jpg', 'frame217 .jpg', 'frame218 .jpg', 'frame220 .jpg']], ['two people eating', (-8.8666381835938, 102.89325714111), ['frame216 .jpg', 'frame217 .jpg', 'frame219 .jpg', 'frame221 .jpg']], ['man with black hair', (290.10791015625, 8.3725051879883), ['frame217 .jpg', 'frame218 .jpg', 'frame219 .jpg', 'frame219 .jpg', 'frame220 .jpg', 'frame220 .jpg', 'frame221 .jpg', 'frame222 .jpg', 'frame223 .jpg', 'frame223 .jpg']], ['blue shirt on man', (297.96353149414, 137.19905090332), ['frame209 .jpg', 'frame210 .jpg', 'frame211 .jpg', 'frame211 .jpg', 'frame212 .jpg', 'frame213 .jpg', 'frame214 .jpg', 'frame214 .jpg', 'frame215 .jpg', 'frame216 .jpg', 'frame216 .jpg', 'frame217 .jpg', 'frame218 .jpg', 'frame220 .jpg', 'frame222 .jpg', 'frame223 .jpg', 'frame224 .jpg', 'frame224 .jpg']], ['the sign is on the building', (159.50129699707, 169.95672607422), ['frame225 .jpg', 'frame226 .jpg', 'frame226 .jpg', 'frame227 .jpg']], ['yellow and white sign', (261.34957885742, 5.1105422973633), ['frame225 .jpg', 'frame227 .jpg', 'frame228 .jpg', 'frame229 .jpg', 'frame230 .jpg', 'frame231 .jpg', 'frame232 .jpg']], ['a white sign with black letters', (90.502517700195, 162.44381713867), ['frame231 .jpg', 'frame232 .jpg', 'frame233 .jpg', 'frame234 .jpg', 'frame235 .jpg', 'frame236 .jpg', 'frame237 .jpg', 'frame238 .jpg', 'frame239 .jpg']], ['blue sign with white lettering', (313.51184082031, 258.7099609375), ['frame233 .jpg', 'frame234 .jpg', 'frame235 .jpg', 'frame236 .jpg', 'frame237 .jpg', 'frame238 .jpg', 'frame239 .jpg']], ['a man walking on the sidewalk', (162.05076599121, 239.40036010742), ['frame233 .jpg', 'frame234 .jpg', 'frame235 .jpg', 'frame236 .jpg', 'frame237 .jpg', 'frame238 .jpg', 'frame239 .jpg']], ['a tree with no leaves', (0.052421569824219, 0.10977172851562), ['frame233 .jpg', 'frame234 .jpg', 'frame235 .jpg', 'frame236 .jpg', 'frame237 .jpg', 'frame239 .jpg']], ['the door is open', (406.86135864258, 241.89389038086), ['frame240 .jpg', 'frame241 .jpg', 'frame242 .jpg', 'frame243 .jpg', 'frame244 .jpg']], ['the windows are open', (-15.670837402344, 200.58403015137), ['frame240 .jpg', 'frame242 .jpg', 'frame243 .jpg', 'frame244 .jpg', 'frame245 .jpg']], ['a building with a red roof', (1.6707382202148, 0.30780029296875), ['frame226 .jpg', 'frame227 .jpg', 'frame227 .jpg', 'frame228 .jpg', 'frame228 .jpg', 'frame229 .jpg', 'frame231 .jpg', 'frame232 .jpg', 'frame234 .jpg', 'frame236 .jpg', 'frame237 .jpg', 'frame238 .jpg', 'frame239 .jpg', 'frame240 .jpg', 'frame241 .jpg', 'frame242 .jpg', 'frame243 .jpg', 'frame244 .jpg', 'frame245 .jpg', 'frame246 .jpg']], ['red and white sign', (233.9471282959, 364.43560791016), ['frame240 .jpg', 'frame241 .jpg', 'frame241 .jpg', 'frame242 .jpg', 'frame242 .jpg', 'frame243 .jpg', 'frame243 .jpg', 'frame244 .jpg', 'frame245 .jpg', 'frame246 .jpg', 'frame246 .jpg']], ['a person in the snow', (620.0693359375, 137.84408569336), ['frame247 .jpg', 'frame248 .jpg', 'frame249 .jpg', 'frame249 .jpg', 'frame251 .jpg']], ['snow covered ground', (23.809661865234, 77.944671630859), ['frame252 .jpg', 'frame254 .jpg', 'frame256 .jpg', 'frame257 .jpg', 'frame258 .jpg']], ['a person on skis', (429.22137451172, 132.79403686523), ['frame247 .jpg', 'frame249 .jpg', 'frame250 .jpg', 'frame251 .jpg', 'frame251 .jpg', 'frame252 .jpg', 'frame253 .jpg', 'frame253 .jpg', 'frame254 .jpg', 'frame255 .jpg', 'frame255 .jpg', 'frame256 .jpg', 'frame256 .jpg', 'frame257 .jpg', 'frame258 .jpg', 'frame259 .jpg', 'frame260 .jpg', 'frame260 .jpg']], ['a person wearing a blue jacket', (493.53656005859, 164.48333740234), ['frame247 .jpg', 'frame248 .jpg', 'frame248 .jpg', 'frame249 .jpg', 'frame250 .jpg', 'frame250 .jpg', 'frame252 .jpg', 'frame252 .jpg', 'frame252 .jpg', 'frame253 .jpg', 'frame253 .jpg', 'frame254 .jpg', 'frame254 .jpg', 'frame255 .jpg', 'frame257 .jpg', 'frame257 .jpg', 'frame258 .jpg', 'frame258 .jpg', 'frame259 .jpg', 'frame259 .jpg', 'frame260 .jpg', 'frame260 .jpg']], ['trees with no leaves', (405.61004638672, -0.52750396728516), ['frame261 .jpg', 'frame262 .jpg', 'frame263 .jpg', 'frame264 .jpg']], ['person wearing black jacket', (3.9144172668457, 147.59252929688), ['frame264 .jpg', 'frame265 .jpg', 'frame266 .jpg', 'frame266 .jpg']], ['two people on skis', (-7.5390014648438, 135.89569091797), ['frame265 .jpg', 'frame267 .jpg', 'frame268 .jpg', 'frame270 .jpg', 'frame271 .jpg', 'frame273 .jpg']], ['snow covered ground', (110.33773803711, 151.99363708496), ['frame263 .jpg', 'frame264 .jpg', 'frame265 .jpg', 'frame266 .jpg', 'frame267 .jpg', 'frame268 .jpg', 'frame269 .jpg', 'frame271 .jpg', 'frame272 .jpg', 'frame272 .jpg', 'frame274 .jpg', 'frame274 .jpg']], ['a woman in black', (288.84909057617, 126.95369720459), ['frame261 .jpg', 'frame262 .jpg', 'frame262 .jpg', 'frame263 .jpg', 'frame264 .jpg', 'frame265 .jpg', 'frame266 .jpg', 'frame267 .jpg', 'frame268 .jpg', 'frame268 .jpg', 'frame269 .jpg', 'frame269 .jpg', 'frame270 .jpg', 'frame271 .jpg', 'frame271 .jpg', 'frame272 .jpg', 'frame272 .jpg', 'frame273 .jpg', 'frame273 .jpg', 'frame274 .jpg', 'frame274 .jpg', 'frame275 .jpg']], ['a window', (310.86376953125, 3.70263671875), ['frame276 .jpg', 'frame277 .jpg', 'frame277 .jpg', 'frame278 .jpg', 'frame280 .jpg', 'frame280 .jpg']], ['snow on the ground', (1.3017883300781, 6.1874008178711), ['frame280 .jpg', 'frame281 .jpg', 'frame281 .jpg', 'frame283 .jpg', 'frame283 .jpg', 'frame284 .jpg', 'frame285 .jpg', 'frame285 .jpg', 'frame285 .jpg', 'frame286 .jpg', 'frame286 .jpg', 'frame287 .jpg', 'frame288 .jpg', 'frame289 .jpg', 'frame290 .jpg', 'frame291 .jpg', 'frame291 .jpg']], ['a brown coat on a woman', (221.79356384277, 3.7017517089844), ['frame281 .jpg', 'frame282 .jpg', 'frame282 .jpg', 'frame283 .jpg', 'frame283 .jpg', 'frame284 .jpg', 'frame284 .jpg', 'frame285 .jpg', 'frame286 .jpg', 'frame287 .jpg', 'frame287 .jpg', 'frame288 .jpg', 'frame290 .jpg', 'frame290 .jpg', 'frame291 .jpg']], ['snow on the ground', (357.51519775391, 99.870559692383), ['frame283 .jpg', 'frame284 .jpg', 'frame285 .jpg', 'frame286 .jpg', 'frame287 .jpg', 'frame288 .jpg', 'frame289 .jpg', 'frame290 .jpg', 'frame291 .jpg']], ['snow covered mountain', (151.10614013672, 2.7417755126953), ['frame284 .jpg', 'frame286 .jpg', 'frame288 .jpg', 'frame289 .jpg', 'frame291 .jpg']], ['a blurry background of a man', (-13.069396972656, 9.9916687011719), ['frame293 .jpg', 'frame294 .jpg', 'frame294 .jpg', 'frame296 .jpg']], ['a green shirt', (311.21923828125, 150.78994750977), ['frame294 .jpg', 'frame295 .jpg', 'frame296 .jpg', 'frame297 .jpg', 'frame297 .jpg', 'frame298 .jpg']], ['green shirt on the man', (79.555541992188, 3.1747283935547), ['frame293 .jpg', 'frame294 .jpg', 'frame295 .jpg', 'frame295 .jpg', 'frame296 .jpg', 'frame297 .jpg', 'frame298 .jpg', 'frame299 .jpg', 'frame301 .jpg']], ['the jacket is green', (-14.205627441406, 216.27334594727), ['frame298 .jpg', 'frame299 .jpg', 'frame300 .jpg', 'frame301 .jpg']], ['a man wearing a green shirt', (182.02655029297, 125.1428527832), ['frame297 .jpg', 'frame299 .jpg', 'frame300 .jpg', 'frame301 .jpg', 'frame302 .jpg', 'frame302 .jpg', 'frame303 .jpg', 'frame303 .jpg']], ['a green jacket', (146.00108337402, 259.48876953125), ['frame300 .jpg', 'frame302 .jpg', 'frame304 .jpg', 'frame305 .jpg', 'frame306 .jpg']], ['green jacket on the man', (382.50408935547, 278.77569580078), ['frame298 .jpg', 'frame299 .jpg', 'frame300 .jpg', 'frame301 .jpg', 'frame302 .jpg', 'frame303 .jpg', 'frame304 .jpg', 'frame305 .jpg', 'frame306 .jpg', 'frame307 .jpg']], ['a poster on the wall', (470.26028442383, 46.383823394775), ['frame302 .jpg', 'frame304 .jpg', 'frame305 .jpg', 'frame306 .jpg', 'frame307 .jpg']], ['man standing on a sidewalk', (120.47549438477, 6.2792358398438), ['frame303 .jpg', 'frame305 .jpg', 'frame305 .jpg', 'frame307 .jpg']], ['a man wearing a jacket', (11.092315673828, 187.36224365234), ['frame309 .jpg', 'frame310 .jpg', 'frame310 .jpg', 'frame311 .jpg']], ['boy wearing a blue jacket', (120.67247009277, 50.725692749023), ['frame306 .jpg', 'frame307 .jpg', 'frame308 .jpg', 'frame310 .jpg', 'frame311 .jpg', 'frame312 .jpg', 'frame313 .jpg']], ['woman wearing a black shirt', (74.781875610352, 111.33123779297), ['frame311 .jpg', 'frame312 .jpg', 'frame314 .jpg', 'frame314 .jpg', 'frame315 .jpg']], ['a candle on the table', (256.71334838867, 318.5319519043), ['frame316 .jpg', 'frame317 .jpg', 'frame318 .jpg', 'frame319 .jpg']], ['red and white box', (533.95623779297, 261.91888427734), ['frame311 .jpg', 'frame312 .jpg', 'frame313 .jpg', 'frame314 .jpg', 'frame315 .jpg', 'frame316 .jpg', 'frame317 .jpg', 'frame318 .jpg', 'frame319 .jpg', 'frame320 .jpg']], ['face of a woman', (192.53091430664, 44.404846191406), ['frame314 .jpg', 'frame315 .jpg', 'frame316 .jpg', 'frame318 .jpg', 'frame319 .jpg', 'frame320 .jpg']], ['girl eating a pizza', (89.554611206055, 53.220016479492), ['frame316 .jpg', 'frame317 .jpg', 'frame318 .jpg', 'frame319 .jpg', 'frame321 .jpg', 'frame321 .jpg', 'frame321 .jpg', 'frame322 .jpg', 'frame322 .jpg', 'frame323 .jpg', 'frame323 .jpg', 'frame324 .jpg']], ['a red and white plate', (289.26672363281, 5.6584053039551), ['frame323 .jpg', 'frame324 .jpg', 'frame324 .jpg', 'frame325 .jpg', 'frame325 .jpg', 'frame325 .jpg', 'frame327 .jpg']], ['green vegetables on a plate', (33.994567871094, 247.9948425293), ['frame321 .jpg', 'frame322 .jpg', 'frame322 .jpg', 'frame323 .jpg', 'frame324 .jpg', 'frame325 .jpg', 'frame327 .jpg', 'frame328 .jpg', 'frame329 .jpg']], ['food on a plate', (377.17138671875, 106.81385040283), ['frame326 .jpg', 'frame328 .jpg', 'frame329 .jpg', 'frame329 .jpg', 'frame330 .jpg', 'frame331 .jpg', 'frame332 .jpg', 'frame333 .jpg']], ['a woman sitting at a table', (511.40341186523, 142.08767700195), ['frame337 .jpg', 'frame338 .jpg', 'frame339 .jpg', 'frame340 .jpg', 'frame341 .jpg', 'frame342 .jpg']], ['woman has long hair', (131.55474853516, 34.887603759766), ['frame330 .jpg', 'frame331 .jpg', 'frame332 .jpg', 'frame333 .jpg', 'frame334 .jpg', 'frame335 .jpg', 'frame335 .jpg', 'frame337 .jpg', 'frame338 .jpg', 'frame339 .jpg', 'frame340 .jpg', 'frame342 .jpg', 'frame343 .jpg']], ['woman holding a banana', (162.74969482422, 87.14714050293), ['frame346 .jpg', 'frame347 .jpg', 'frame348 .jpg', 'frame349 .jpg']], ['woman has long hair', (269.93835449219, -2.9721298217773), ['frame332 .jpg', 'frame333 .jpg', 'frame334 .jpg', 'frame336 .jpg', 'frame337 .jpg', 'frame338 .jpg', 'frame339 .jpg', 'frame340 .jpg', 'frame341 .jpg', 'frame342 .jpg', 'frame343 .jpg', 'frame344 .jpg', 'frame344 .jpg', 'frame345 .jpg', 'frame346 .jpg', 'frame347 .jpg', 'frame348 .jpg', 'frame349 .jpg', 'frame350 .jpg', 'frame350 .jpg']], ['the hand of a woman', (399.30395507812, 236.56427001953), ['frame334 .jpg', 'frame335 .jpg', 'frame336 .jpg', 'frame337 .jpg', 'frame338 .jpg', 'frame339 .jpg', 'frame340 .jpg', 'frame341 .jpg', 'frame342 .jpg', 'frame343 .jpg', 'frame343 .jpg', 'frame344 .jpg', 'frame345 .jpg', 'frame346 .jpg', 'frame347 .jpg', 'frame347 .jpg', 'frame348 .jpg', 'frame348 .jpg', 'frame349 .jpg', 'frame350 .jpg']], ['a woman sitting in a chair', (506.43872070312, 167.51031494141), ['frame346 .jpg', 'frame347 .jpg', 'frame348 .jpg', 'frame349 .jpg', 'frame350 .jpg']], ['a black and white striped shirt', (47.365669250488, 38.12744140625), ['frame352 .jpg', 'frame354 .jpg', 'frame354 .jpg', 'frame355 .jpg']], ['a hand holding a cell phone', (454.87670898438, 5.0060348510742), ['frame353 .jpg', 'frame355 .jpg', 'frame355 .jpg', 'frame356 .jpg', 'frame357 .jpg']], ['a person is holding a teddy bear', (7.30126953125, 56.380722045898), ['frame353 .jpg', 'frame354 .jpg', 'frame355 .jpg', 'frame356 .jpg', 'frame357 .jpg', 'frame358 .jpg', 'frame358 .jpg', 'frame359 .jpg', 'frame360 .jpg', 'frame360 .jpg', 'frame361 .jpg', 'frame362 .jpg', 'frame363 .jpg', 'frame364 .jpg', 'frame365 .jpg']], ['a person with a red hair', (380.12225341797, 9.2666015625), ['frame354 .jpg', 'frame356 .jpg', 'frame357 .jpg', 'frame358 .jpg', 'frame358 .jpg', 'frame360 .jpg', 'frame360 .jpg', 'frame361 .jpg', 'frame363 .jpg', 'frame364 .jpg', 'frame365 .jpg', 'frame366 .jpg']], ['man with a white shirt', (297.14685058594, 97.153327941895), ['frame362 .jpg', 'frame364 .jpg', 'frame364 .jpg', 'frame365 .jpg', 'frame366 .jpg', 'frame367 .jpg', 'frame368 .jpg', 'frame369 .jpg', 'frame369 .jpg', 'frame370 .jpg']], ['the background is blurry', (-8.5971069335938, 6.6801452636719), ['frame368 .jpg', 'frame369 .jpg', 'frame371 .jpg', 'frame372 .jpg', 'frame373 .jpg']], ['a clear plastic cup', (480.93389892578, 171.80401611328), ['frame380 .jpg', 'frame381 .jpg', 'frame381 .jpg', 'frame381 .jpg', 'frame382 .jpg', 'frame382 .jpg', 'frame383 .jpg', 'frame384 .jpg', 'frame385 .jpg', 'frame385 .jpg', 'frame386 .jpg', 'frame387 .jpg', 'frame387 .jpg', 'frame388 .jpg', 'frame388 .jpg', 'frame389 .jpg']], ['the letter is white', (343.52755737305, 143.19934082031), ['frame389 .jpg', 'frame390 .jpg', 'frame390 .jpg', 'frame391 .jpg', 'frame393 .jpg']], ['a blue container of water', (107.03291320801, 248.05528259277), ['frame380 .jpg', 'frame381 .jpg', 'frame382 .jpg', 'frame382 .jpg', 'frame383 .jpg', 'frame384 .jpg', 'frame385 .jpg', 'frame386 .jpg', 'frame386 .jpg', 'frame387 .jpg', 'frame388 .jpg', 'frame389 .jpg', 'frame390 .jpg', 'frame391 .jpg', 'frame392 .jpg', 'frame393 .jpg', 'frame395 .jpg', 'frame396 .jpg', 'frame397 .jpg', 'frame397 .jpg', 'frame398 .jpg', 'frame399 .jpg']], ['a can of soda', (3.1882057189941, 331.84747314453), ['frame398 .jpg', 'frame399 .jpg', 'frame400 .jpg', 'frame401 .jpg']], ['a bottle of water', (318.77282714844, 84.073890686035), ['frame380 .jpg', 'frame381 .jpg', 'frame382 .jpg', 'frame383 .jpg', 'frame383 .jpg', 'frame383 .jpg', 'frame384 .jpg', 'frame384 .jpg', 'frame384 .jpg', 'frame385 .jpg', 'frame387 .jpg', 'frame388 .jpg', 'frame389 .jpg', 'frame389 .jpg', 'frame390 .jpg', 'frame391 .jpg', 'frame392 .jpg', 'frame392 .jpg', 'frame392 .jpg', 'frame392 .jpg', 'frame394 .jpg', 'frame395 .jpg', 'frame396 .jpg', 'frame397 .jpg', 'frame398 .jpg', 'frame399 .jpg', 'frame399 .jpg', 'frame401 .jpg', 'frame402 .jpg']], ['a gray sweater', (37.932235717773, 31.796569824219), ['frame400 .jpg', 'frame401 .jpg', 'frame402 .jpg', 'frame403 .jpg']], ['man holding a white plate', (97.276138305664, 4.339599609375), ['frame394 .jpg', 'frame395 .jpg', 'frame396 .jpg', 'frame396 .jpg', 'frame397 .jpg', 'frame398 .jpg', 'frame398 .jpg', 'frame399 .jpg', 'frame400 .jpg', 'frame400 .jpg', 'frame402 .jpg', 'frame403 .jpg', 'frame404 .jpg', 'frame405 .jpg']], ['two people sitting at a table', (-7.0716247558594, 185.79064941406), ['frame408 .jpg', 'frame410 .jpg', 'frame411 .jpg', 'frame412 .jpg']], ['a man with a beard', (358.11376953125, 31.091186523438), ['frame409 .jpg', 'frame410 .jpg', 'frame411 .jpg', 'frame412 .jpg', 'frame412 .jpg']], ['blue and white shirt', (190.16516113281, 116.79280090332), ['frame403 .jpg', 'frame405 .jpg', 'frame406 .jpg', 'frame407 .jpg', 'frame409 .jpg', 'frame409 .jpg', 'frame411 .jpg', 'frame412 .jpg', 'frame413 .jpg']], ['the sign is red', (285.75964355469, 45.392379760742), ['frame413 .jpg', 'frame414 .jpg', 'frame414 .jpg', 'frame415 .jpg']], ['man in a blue shirt', (528.97113037109, 58.993911743164), ['frame418 .jpg', 'frame420 .jpg', 'frame422 .jpg', 'frame423 .jpg', 'frame423 .jpg', 'frame424 .jpg', 'frame426 .jpg']], ['a green shirt on a man', (4.8810272216797, 161.09820556641), ['frame429 .jpg', 'frame430 .jpg', 'frame432 .jpg', 'frame433 .jpg']], ['man with short hair', (351.82266235352, 68.080413818359), ['frame428 .jpg', 'frame429 .jpg', 'frame430 .jpg', 'frame431 .jpg', 'frame432 .jpg', 'frame433 .jpg', 'frame435 .jpg', 'frame436 .jpg']], ['people in the background', (409.81384277344, 122.30339050293), ['frame422 .jpg', 'frame424 .jpg', 'frame425 .jpg', 'frame425 .jpg', 'frame425 .jpg', 'frame426 .jpg', 'frame426 .jpg', 'frame427 .jpg', 'frame427 .jpg', 'frame427 .jpg', 'frame428 .jpg', 'frame429 .jpg', 'frame430 .jpg', 'frame431 .jpg', 'frame431 .jpg', 'frame433 .jpg', 'frame434 .jpg', 'frame434 .jpg', 'frame435 .jpg', 'frame436 .jpg', 'frame437 .jpg', 'frame437 .jpg', 'frame438 .jpg', 'frame438 .jpg']], ['man in a black shirt', (172.82266235352, 71.047653198242), ['frame425 .jpg', 'frame427 .jpg', 'frame428 .jpg', 'frame428 .jpg', 'frame429 .jpg', 'frame430 .jpg', 'frame431 .jpg', 'frame432 .jpg', 'frame432 .jpg', 'frame433 .jpg', 'frame434 .jpg', 'frame435 .jpg', 'frame436 .jpg', 'frame436 .jpg', 'frame437 .jpg', 'frame438 .jpg', 'frame438 .jpg']], ['the man is looking at the camera', (1.5188446044922, 5.5579681396484), ['frame443 .jpg', 'frame445 .jpg', 'frame447 .jpg', 'frame447 .jpg', 'frame448 .jpg']], ['woman with long hair', (-3.2948608398438, 139.38726806641), ['frame443 .jpg', 'frame444 .jpg', 'frame446 .jpg', 'frame447 .jpg', 'frame448 .jpg', 'frame449 .jpg', 'frame449 .jpg', 'frame450 .jpg', 'frame450 .jpg']], ['the shirt is yellow', (372.73358154297, 211.87463378906), ['frame450 .jpg', 'frame451 .jpg', 'frame452 .jpg', 'frame453 .jpg']], ['people in the background', (524.88061523438, 43.00358581543), ['frame447 .jpg', 'frame448 .jpg', 'frame448 .jpg', 'frame448 .jpg', 'frame449 .jpg', 'frame449 .jpg', 'frame450 .jpg', 'frame450 .jpg', 'frame451 .jpg', 'frame452 .jpg', 'frame454 .jpg', 'frame454 .jpg']], ['woman wearing a green shirt', (209.82797241211, 133.98934936523), ['frame452 .jpg', 'frame453 .jpg', 'frame454 .jpg', 'frame454 .jpg', 'frame455 .jpg', 'frame457 .jpg']], ['man wearing a red shirt', (271.28216552734, 104.47039794922), ['frame453 .jpg', 'frame455 .jpg', 'frame456 .jpg', 'frame456 .jpg', 'frame458 .jpg']], ['a woman with a smile', (108.69373321533, 60.189765930176), ['frame444 .jpg', 'frame445 .jpg', 'frame445 .jpg', 'frame446 .jpg', 'frame447 .jpg', 'frame449 .jpg', 'frame451 .jpg', 'frame453 .jpg', 'frame455 .jpg', 'frame456 .jpg', 'frame457 .jpg', 'frame457 .jpg', 'frame458 .jpg', 'frame458 .jpg', 'frame460 .jpg', 'frame461 .jpg', 'frame461 .jpg', 'frame462 .jpg', 'frame462 .jpg', 'frame463 .jpg', 'frame463 .jpg', 'frame463 .jpg', 'frame464 .jpg', 'frame464 .jpg']], ['man holding a white controller', (372.73501586914, 52.766632080078), ['frame460 .jpg', 'frame461 .jpg', 'frame462 .jpg', 'frame464 .jpg']], ['the sun is shining', (138.9937286377, 8.259033203125), ['frame470 .jpg', 'frame472 .jpg', 'frame473 .jpg', 'frame475 .jpg', 'frame476 .jpg']], ['green and white face of a man', (375.60305786133, 54.061622619629), ['frame477 .jpg', 'frame478 .jpg', 'frame480 .jpg', 'frame481 .jpg', 'frame481 .jpg']], ['a man with a face', (280.07653808594, 16.177795410156), ['frame490 .jpg', 'frame492 .jpg', 'frame493 .jpg', 'frame494 .jpg']], ['a blue and white computer', (344.20959472656, 15.918533325195), ['frame486 .jpg', 'frame488 .jpg', 'frame489 .jpg', 'frame491 .jpg', 'frame492 .jpg', 'frame493 .jpg', 'frame494 .jpg', 'frame495 .jpg']], ['a light in the background', (-1.3926696777344, 13.620208740234), ['frame487 .jpg', 'frame488 .jpg', 'frame488 .jpg', 'frame489 .jpg', 'frame490 .jpg', 'frame490 .jpg', 'frame491 .jpg', 'frame492 .jpg', 'frame494 .jpg', 'frame495 .jpg']], ['white letters on the side of the train', (40.023773193359, 292.27816772461), ['frame491 .jpg', 'frame492 .jpg', 'frame493 .jpg', 'frame495 .jpg']], ['head of a green and white bear', (305.23199462891, 49.97420501709), ['frame495 .jpg', 'frame497 .jpg', 'frame498 .jpg', 'frame498 .jpg', 'frame499 .jpg']], ['the head of a man', (299.93792724609, 26.683441162109), ['frame497 .jpg', 'frame499 .jpg', 'frame500 .jpg', 'frame500 .jpg']], ['sky is clear and blue', (-5.2754821777344, 6.9703063964844), ['frame497 .jpg', 'frame499 .jpg', 'frame499 .jpg', 'frame501 .jpg']], ['a bright blue sky', (454.89758300781, 158.3194732666), ['frame499 .jpg', 'frame500 .jpg', 'frame502 .jpg', 'frame503 .jpg', 'frame503 .jpg', 'frame503 .jpg']], ['a city street', (180.98789978027, 88.017547607422), ['frame504 .jpg', 'frame506 .jpg', 'frame507 .jpg', 'frame508 .jpg', 'frame508 .jpg', 'frame508 .jpg', 'frame509 .jpg', 'frame509 .jpg', 'frame510 .jpg', 'frame510 .jpg', 'frame510 .jpg', 'frame511 .jpg', 'frame511 .jpg', 'frame511 .jpg']]]\n"
          ],
          "name": "stdout"
        }
      ]
    },
    {
      "cell_type": "code",
      "metadata": {
        "id": "UEsshcaZ_CmR",
        "colab": {
          "base_uri": "https://localhost:8080/",
          "height": 34
        },
        "outputId": "40c851b1-f356-41e2-bc88-87dacddcc424"
      },
      "source": [
        "len(tracks)"
      ],
      "execution_count": null,
      "outputs": [
        {
          "output_type": "execute_result",
          "data": {
            "text/plain": [
              "2"
            ]
          },
          "metadata": {
            "tags": []
          },
          "execution_count": 13
        }
      ]
    },
    {
      "cell_type": "code",
      "metadata": {
        "id": "sdgkH5Zxacr2"
      },
      "source": [
        "for i in tracks:\n",
        "  final_tracks.append(i)"
      ],
      "execution_count": null,
      "outputs": []
    },
    {
      "cell_type": "code",
      "metadata": {
        "id": "iKvZcBHaarGZ"
      },
      "source": [
        "f=open(\"drive/My Drive/Mini-Project/final_tracks.txt\",'w')\n",
        "f.write('final_tracks = '+str(final_tracks))\n",
        "f.close()"
      ],
      "execution_count": null,
      "outputs": []
    },
    {
      "cell_type": "code",
      "metadata": {
        "id": "0FuMMkyNawb2"
      },
      "source": [
        ""
      ],
      "execution_count": null,
      "outputs": []
    }
  ]
}